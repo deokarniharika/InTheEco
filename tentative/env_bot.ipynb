{
  "cells": [
    {
      "cell_type": "code",
      "source": [
        "!pip install praw"
      ],
      "metadata": {
        "id": "_pRSYmLd4N_Q",
        "colab": {
          "base_uri": "https://localhost:8080/"
        },
        "outputId": "1a980bc8-66b6-42df-9b48-b7dc84d95b6e"
      },
      "execution_count": 2,
      "outputs": [
        {
          "output_type": "stream",
          "name": "stdout",
          "text": [
            "Looking in indexes: https://pypi.org/simple, https://us-python.pkg.dev/colab-wheels/public/simple/\n",
            "Collecting praw\n",
            "  Downloading praw-7.6.0-py3-none-any.whl (188 kB)\n",
            "\u001b[K     |████████████████████████████████| 188 kB 6.7 MB/s \n",
            "\u001b[?25hCollecting prawcore<3,>=2.1\n",
            "  Downloading prawcore-2.3.0-py3-none-any.whl (16 kB)\n",
            "Collecting update-checker>=0.18\n",
            "  Downloading update_checker-0.18.0-py3-none-any.whl (7.0 kB)\n",
            "Collecting websocket-client>=0.54.0\n",
            "  Downloading websocket_client-1.3.3-py3-none-any.whl (54 kB)\n",
            "\u001b[K     |████████████████████████████████| 54 kB 3.2 MB/s \n",
            "\u001b[?25hRequirement already satisfied: requests<3.0,>=2.6.0 in /usr/local/lib/python3.7/dist-packages (from prawcore<3,>=2.1->praw) (2.23.0)\n",
            "Requirement already satisfied: urllib3!=1.25.0,!=1.25.1,<1.26,>=1.21.1 in /usr/local/lib/python3.7/dist-packages (from requests<3.0,>=2.6.0->prawcore<3,>=2.1->praw) (1.24.3)\n",
            "Requirement already satisfied: idna<3,>=2.5 in /usr/local/lib/python3.7/dist-packages (from requests<3.0,>=2.6.0->prawcore<3,>=2.1->praw) (2.10)\n",
            "Requirement already satisfied: certifi>=2017.4.17 in /usr/local/lib/python3.7/dist-packages (from requests<3.0,>=2.6.0->prawcore<3,>=2.1->praw) (2022.6.15)\n",
            "Requirement already satisfied: chardet<4,>=3.0.2 in /usr/local/lib/python3.7/dist-packages (from requests<3.0,>=2.6.0->prawcore<3,>=2.1->praw) (3.0.4)\n",
            "Installing collected packages: websocket-client, update-checker, prawcore, praw\n",
            "Successfully installed praw-7.6.0 prawcore-2.3.0 update-checker-0.18.0 websocket-client-1.3.3\n"
          ]
        }
      ]
    },
    {
      "cell_type": "code",
      "source": [
        "import praw"
      ],
      "metadata": {
        "id": "tJSQu_N4IJL2"
      },
      "execution_count": 3,
      "outputs": []
    },
    {
      "cell_type": "code",
      "source": [
        "with open('id.txt', 'r') as f:\n",
        "  CLIENT_ID=f.read()\n",
        "\n",
        "with open('secret.txt', 'r') as f:\n",
        "  SECRET_KEY=f.read()"
      ],
      "metadata": {
        "id": "yl0sJlnSPd3Y"
      },
      "execution_count": 27,
      "outputs": []
    },
    {
      "cell_type": "code",
      "source": [
        "#dictionary where we specify every step\n",
        "reddit = praw.Reddit(client_id=CLIENT_ID,\n",
        "                     client_secret=SECRET_KEY,\n",
        "                     user_agent='MyAPI/0.0.1')"
      ],
      "metadata": {
        "id": "l2vzNqeZ5vIQ"
      },
      "execution_count": 28,
      "outputs": []
    },
    {
      "cell_type": "code",
      "source": [
        "#scraping data from the envrionment subreddit and getting the top 10 posts as the output.\n",
        "evs_posts=reddit.subreddit('environment').hot(limit=10)\n",
        "for post in evs_posts:\n",
        "  print(post.title)"
      ],
      "metadata": {
        "colab": {
          "base_uri": "https://localhost:8080/"
        },
        "id": "oSLDbrQHJCjt",
        "outputId": "b3e024c3-b1a0-4356-bc78-9dfe17c8f338"
      },
      "execution_count": 29,
      "outputs": [
        {
          "output_type": "stream",
          "name": "stderr",
          "text": [
            "WARNING:praw:It appears that you are using PRAW in an asynchronous environment.\n",
            "It is strongly recommended to use Async PRAW: https://asyncpraw.readthedocs.io.\n",
            "See https://praw.readthedocs.io/en/latest/getting_started/multiple_instances.html#discord-bots-and-asynchronous-environments for more info.\n",
            "\n"
          ]
        },
        {
          "output_type": "stream",
          "name": "stdout",
          "text": [
            "Whales ‘die in agony’ as Icelandic grenade harpoons skewer them but fail to explode\n",
            "California is due for a 'megaflood' that could drop 100 inches of rain\n",
            "The fossil fuel industry spent billions to deny the climate crisis. Can Biden’s bill undo decades of harm?\n",
            "Climate change and overfishing threaten once ‘endless’ Antarctic krill\n",
            "Over 150 endangered vultures poisoned to death in southern Africa\n",
            "Study finds 100% renewables would pay off within 6 years\n",
            "Meet the Appalachian Women Facing Down the Mountain Valley Pipeline Across years and several southern states, these organizers have helped drive the massive gas pipeline to the brink of defeat.\n",
            "Body-in-a-barrel Lake Mead mystery swirls as missing mob man’s sister comes forward\n",
            "'Very scary': European agriculture hit hard by climate change and drought\n",
            "These youth climate activists are taking Europe to court — “It’s a human rights issue.”\n"
          ]
        }
      ]
    },
    {
      "cell_type": "code",
      "source": [
        "import pandas as pd\n",
        "posts = []\n",
        "envi = reddit.subreddit('environment')\n",
        "for post in envi.hot(limit=20):\n",
        "    posts.append([post.title, post.url, post.created])\n",
        "posts = pd.DataFrame(posts,columns=['title', 'url', 'created'])\n",
        "print(posts)"
      ],
      "metadata": {
        "colab": {
          "base_uri": "https://localhost:8080/"
        },
        "id": "k3j88EWuKgos",
        "outputId": "fe8498a6-0502-4d52-afb9-041f81e3486b"
      },
      "execution_count": 30,
      "outputs": [
        {
          "output_type": "stream",
          "name": "stderr",
          "text": [
            "WARNING:praw:It appears that you are using PRAW in an asynchronous environment.\n",
            "It is strongly recommended to use Async PRAW: https://asyncpraw.readthedocs.io.\n",
            "See https://praw.readthedocs.io/en/latest/getting_started/multiple_instances.html#discord-bots-and-asynchronous-environments for more info.\n",
            "\n"
          ]
        },
        {
          "output_type": "stream",
          "name": "stdout",
          "text": [
            "                                                title  \\\n",
            "0   Whales ‘die in agony’ as Icelandic grenade har...   \n",
            "1   California is due for a 'megaflood' that could...   \n",
            "2   The fossil fuel industry spent billions to den...   \n",
            "3   Climate change and overfishing threaten once ‘...   \n",
            "4   Over 150 endangered vultures poisoned to death...   \n",
            "5   Study finds 100% renewables would pay off with...   \n",
            "6   Meet the Appalachian Women Facing Down the Mou...   \n",
            "7   Body-in-a-barrel Lake Mead mystery swirls as m...   \n",
            "8   'Very scary': European agriculture hit hard by...   \n",
            "9   How to keep your beaver wet when things are ge...   \n",
            "10  These youth climate activists are taking Europ...   \n",
            "11  European drought dries up rivers, kills fish, ...   \n",
            "12  Saudi firm has pumped Arizona groundwater for ...   \n",
            "13  A Pipeline Giant Pleads ‘No Contest’ to Enviro...   \n",
            "14  Drought hits Germany's Rhine River: 'We have 3...   \n",
            "15  High-profile paper on “catastrophic” climate i...   \n",
            "16  Hosepipe ban: Millions more face restrictions ...   \n",
            "17  California could lend PG&E $1.4 billion to sav...   \n",
            "18  A huge side benefit of the new US climate bill...   \n",
            "19  Extreme Heat Uncovers Lost Villages, Ancient R...   \n",
            "\n",
            "                                                  url       created  \n",
            "0   https://news.yahoo.com/whales-die-agony-icelan...  1.660321e+09  \n",
            "1   https://www.washingtonpost.com/climate-environ...  1.660331e+09  \n",
            "2   https://www.theguardian.com/environment/2022/a...  1.660311e+09  \n",
            "3   https://news.mongabay.com/2022/08/climate-chan...  1.660301e+09  \n",
            "4   https://phys.org/news/2022-08-endangered-vultu...  1.660315e+09  \n",
            "5   https://pv-magazine-usa.com/2022/08/09/study-f...  1.660268e+09  \n",
            "6   https://inthesetimes.com/article/mountain-vall...  1.660326e+09  \n",
            "7   https://www.independent.co.uk/climate-change/n...  1.660338e+09  \n",
            "8   https://www.yahoo.com/news/very-scary-european...  1.660335e+09  \n",
            "9   https://metro.co.uk/2022/08/12/how-to-keep-you...  1.660332e+09  \n",
            "10  https://www.motherjones.com/environment/2022/0...  1.660302e+09  \n",
            "11  https://apnews.com/article/science-france-drou...  1.660294e+09  \n",
            "12  https://news.yahoo.com/saudi-firm-pumped-arizo...  1.660236e+09  \n",
            "13  https://insideclimatenews.org/news/10082022/a-...  1.660312e+09  \n",
            "14     https://www.bbc.com/news/world-europe-62519683  1.660327e+09  \n",
            "15  https://www.resilience.org/stories/2022-08-10/...  1.660334e+09  \n",
            "16               https://www.bbc.com/news/uk-62508521  1.660306e+09  \n",
            "17  https://www.latimes.com/business/story/2022-08...  1.660337e+09  \n",
            "18  https://www.nytimes.com/2022/08/12/climate/cli...  1.660327e+09  \n",
            "19  https://www.bloomberg.com/news/features/2022-0...  1.660304e+09  \n"
          ]
        }
      ]
    },
    {
      "cell_type": "code",
      "source": [
        "posts.to_csv('envi.csv', header=False, index=False)"
      ],
      "metadata": {
        "id": "H1zXisNMOLm8"
      },
      "execution_count": 20,
      "outputs": []
    }
  ],
  "metadata": {
    "colab": {
      "collapsed_sections": [],
      "name": "env-bot.ipynb",
      "provenance": []
    },
    "kernelspec": {
      "display_name": "Python 3",
      "name": "python3"
    },
    "language_info": {
      "name": "python"
    }
  },
  "nbformat": 4,
  "nbformat_minor": 0
}